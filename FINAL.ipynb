{
 "cells": [
  {
   "cell_type": "code",
   "execution_count": 3,
   "metadata": {
    "id": "MR4SZtCuG7zT"
   },
   "outputs": [],
   "source": [
    "import numpy as np\n",
    "import pandas as pd\n",
    "import seaborn as sns\n",
    "import matplotlib.ticker as mtick\n",
    "import matplotlib.pyplot as plt\n",
    "%matplotlib inline"
   ]
  },
  {
   "cell_type": "code",
   "execution_count": 4,
   "metadata": {
    "colab": {
     "base_uri": "https://localhost:8080/",
     "height": 244
    },
    "id": "LLt697iZIMPy",
    "outputId": "42db10c8-75a4-449d-b668-1e9dbc439023"
   },
   "outputs": [
    {
     "data": {
      "text/html": [
       "<div>\n",
       "<style scoped>\n",
       "    .dataframe tbody tr th:only-of-type {\n",
       "        vertical-align: middle;\n",
       "    }\n",
       "\n",
       "    .dataframe tbody tr th {\n",
       "        vertical-align: top;\n",
       "    }\n",
       "\n",
       "    .dataframe thead th {\n",
       "        text-align: right;\n",
       "    }\n",
       "</style>\n",
       "<table border=\"1\" class=\"dataframe\">\n",
       "  <thead>\n",
       "    <tr style=\"text-align: right;\">\n",
       "      <th></th>\n",
       "      <th>LoanID</th>\n",
       "      <th>Age</th>\n",
       "      <th>Income</th>\n",
       "      <th>LoanAmount</th>\n",
       "      <th>CreditScore</th>\n",
       "      <th>MonthsEmployed</th>\n",
       "      <th>NumCreditLines</th>\n",
       "      <th>InterestRate</th>\n",
       "      <th>LoanTerm</th>\n",
       "      <th>DTIRatio</th>\n",
       "      <th>Education</th>\n",
       "      <th>EmploymentType</th>\n",
       "      <th>MaritalStatus</th>\n",
       "      <th>HasMortgage</th>\n",
       "      <th>HasDependents</th>\n",
       "      <th>LoanPurpose</th>\n",
       "      <th>HasCoSigner</th>\n",
       "      <th>Default</th>\n",
       "    </tr>\n",
       "  </thead>\n",
       "  <tbody>\n",
       "    <tr>\n",
       "      <th>0</th>\n",
       "      <td>C1OZ6DPJ8Y</td>\n",
       "      <td>46</td>\n",
       "      <td>15301</td>\n",
       "      <td>177267</td>\n",
       "      <td>645</td>\n",
       "      <td>0</td>\n",
       "      <td>3</td>\n",
       "      <td>21.17</td>\n",
       "      <td>24</td>\n",
       "      <td>0.31</td>\n",
       "      <td>Master</td>\n",
       "      <td>Unemployed</td>\n",
       "      <td>Divorced</td>\n",
       "      <td>Yes</td>\n",
       "      <td>Yes</td>\n",
       "      <td>Auto</td>\n",
       "      <td>No</td>\n",
       "      <td>1</td>\n",
       "    </tr>\n",
       "    <tr>\n",
       "      <th>1</th>\n",
       "      <td>A9S62RQ7US</td>\n",
       "      <td>25</td>\n",
       "      <td>15376</td>\n",
       "      <td>27548</td>\n",
       "      <td>760</td>\n",
       "      <td>0</td>\n",
       "      <td>2</td>\n",
       "      <td>22.72</td>\n",
       "      <td>24</td>\n",
       "      <td>0.10</td>\n",
       "      <td>High School</td>\n",
       "      <td>Unemployed</td>\n",
       "      <td>Single</td>\n",
       "      <td>Yes</td>\n",
       "      <td>No</td>\n",
       "      <td>Business</td>\n",
       "      <td>Yes</td>\n",
       "      <td>1</td>\n",
       "    </tr>\n",
       "    <tr>\n",
       "      <th>2</th>\n",
       "      <td>1R0N3LGNRJ</td>\n",
       "      <td>36</td>\n",
       "      <td>15496</td>\n",
       "      <td>140956</td>\n",
       "      <td>752</td>\n",
       "      <td>0</td>\n",
       "      <td>1</td>\n",
       "      <td>23.94</td>\n",
       "      <td>48</td>\n",
       "      <td>0.20</td>\n",
       "      <td>Bachelor</td>\n",
       "      <td>Self-employed</td>\n",
       "      <td>NaN</td>\n",
       "      <td>Yes</td>\n",
       "      <td>No</td>\n",
       "      <td>Education</td>\n",
       "      <td>No</td>\n",
       "      <td>1</td>\n",
       "    </tr>\n",
       "    <tr>\n",
       "      <th>3</th>\n",
       "      <td>Y8UETC3LSG</td>\n",
       "      <td>28</td>\n",
       "      <td>15828</td>\n",
       "      <td>55923</td>\n",
       "      <td>481</td>\n",
       "      <td>0</td>\n",
       "      <td>3</td>\n",
       "      <td>5.84</td>\n",
       "      <td>36</td>\n",
       "      <td>0.80</td>\n",
       "      <td>PhD</td>\n",
       "      <td>Full-time</td>\n",
       "      <td>Divorced</td>\n",
       "      <td>No</td>\n",
       "      <td>No</td>\n",
       "      <td>Education</td>\n",
       "      <td>Yes</td>\n",
       "      <td>1</td>\n",
       "    </tr>\n",
       "    <tr>\n",
       "      <th>4</th>\n",
       "      <td>O1IKKLC69B</td>\n",
       "      <td>19</td>\n",
       "      <td>16157</td>\n",
       "      <td>74553</td>\n",
       "      <td>498</td>\n",
       "      <td>0</td>\n",
       "      <td>2</td>\n",
       "      <td>14.00</td>\n",
       "      <td>24</td>\n",
       "      <td>0.17</td>\n",
       "      <td>Bachelor</td>\n",
       "      <td>Self-employed</td>\n",
       "      <td>Divorced</td>\n",
       "      <td>Yes</td>\n",
       "      <td>No</td>\n",
       "      <td>Education</td>\n",
       "      <td>No</td>\n",
       "      <td>1</td>\n",
       "    </tr>\n",
       "  </tbody>\n",
       "</table>\n",
       "</div>"
      ],
      "text/plain": [
       "       LoanID  Age  Income  LoanAmount  CreditScore  MonthsEmployed  \\\n",
       "0  C1OZ6DPJ8Y   46   15301      177267          645               0   \n",
       "1  A9S62RQ7US   25   15376       27548          760               0   \n",
       "2  1R0N3LGNRJ   36   15496      140956          752               0   \n",
       "3  Y8UETC3LSG   28   15828       55923          481               0   \n",
       "4  O1IKKLC69B   19   16157       74553          498               0   \n",
       "\n",
       "   NumCreditLines  InterestRate  LoanTerm  DTIRatio    Education  \\\n",
       "0               3         21.17        24      0.31       Master   \n",
       "1               2         22.72        24      0.10  High School   \n",
       "2               1         23.94        48      0.20     Bachelor   \n",
       "3               3          5.84        36      0.80          PhD   \n",
       "4               2         14.00        24      0.17     Bachelor   \n",
       "\n",
       "  EmploymentType MaritalStatus HasMortgage HasDependents LoanPurpose  \\\n",
       "0     Unemployed      Divorced         Yes           Yes        Auto   \n",
       "1     Unemployed        Single         Yes            No    Business   \n",
       "2  Self-employed           NaN         Yes            No   Education   \n",
       "3      Full-time      Divorced          No            No   Education   \n",
       "4  Self-employed      Divorced         Yes            No   Education   \n",
       "\n",
       "  HasCoSigner  Default  \n",
       "0          No        1  \n",
       "1         Yes        1  \n",
       "2          No        1  \n",
       "3         Yes        1  \n",
       "4          No        1  "
      ]
     },
     "execution_count": 4,
     "metadata": {},
     "output_type": "execute_result"
    }
   ],
   "source": [
    "loan_data = pd.read_csv('all_loan_Default_Copy.csv')\n",
    "loan_data.head()"
   ]
  },
  {
   "cell_type": "code",
   "execution_count": 5,
   "metadata": {
    "id": "vMW-I6xhJT72"
   },
   "outputs": [],
   "source": [
    "# \tcolumn_name\t     Data_type\t  Description\n",
    "\n",
    "# 1\tLoanID\t          string\t     A unique identifier for each loan.\n",
    "# 2\tAge\t              integer\t     The age of the borrower.\n",
    "# 3\tIncome\t          integer\t     The annual income of the borrower.\n",
    "# 4\tLoanAmount\t      integer\t     The amount of money being borrowed.\n",
    "# 5\tCreditScore\t      integer\t     The credit score of the borrower, indicating their creditworthiness.\n",
    "# 6\tMonthsEmployed\t  integer\t     The number of months the borrower has been employed.\n",
    "# 7\tNumCreditLines\t  integer\t     The number of credit lines the borrower has open.\n",
    "# 8\tInterestRate\t    float\t       The interest rate for the loan.\n",
    "# 9\tLoan Term\t        integer\t     The term length of the loan in months.\n",
    "# 10\tDTIRatio\t      float\t       The Debt-to-Income ratio, indicating the borrower's debt compared to their income.\n",
    "# 11\tEducation\t      string\t     The highest level of education attained by the borrower (PhD, Master's, Bachelor's, High School).\n",
    "# 12\tEmploymentType\tstring\t     The type of employment status of the borrower (Full-time, Part-time, Self-employed, Unemployed).\n",
    "# 13\tMarital Status\tstring\t     The marital status of the borrower (Single, Married, Divorced).\n",
    "# 14\tHasMortgage\t    string\t     Whether the borrower has a mortgage (Yes or No).\n",
    "# 15\tHasDependents\t  string\t     Whether the borrower has dependents (Yes or No).\n",
    "# 16\tLoanPurpose\t    string\t     The purpose of the loan (Home, Auto, Education, Business, Other).\n",
    "# 17\tHasCoSigner\t    string\t     Whether the loan has a co-signer (Yes or No).\n",
    "# 18\tDefault(Target)\tinteger\t     The binary target variable indicating whether the loan defaulted (1) or not (0).\n"
   ]
  },
  {
   "cell_type": "code",
   "execution_count": 6,
   "metadata": {
    "colab": {
     "base_uri": "https://localhost:8080/"
    },
    "id": "9x9sdo1BIOLA",
    "outputId": "7790ae4f-0f39-4698-fafa-6a23553f58e0"
   },
   "outputs": [
    {
     "data": {
      "text/plain": [
       "0    74.59541\n",
       "1    25.40459\n",
       "Name: Default, dtype: float64"
      ]
     },
     "execution_count": 6,
     "metadata": {},
     "output_type": "execute_result"
    }
   ],
   "source": [
    "100*loan_data['Default'].value_counts()/len(loan_data['Default'])\n",
    "\n",
    "# data is highly imbalanced ratio = 74.25"
   ]
  },
  {
   "cell_type": "code",
   "execution_count": 7,
   "metadata": {
    "colab": {
     "base_uri": "https://localhost:8080/"
    },
    "id": "AKIhV5bQISov",
    "outputId": "41b11e38-3ce6-4fdf-c158-146e1559b41a"
   },
   "outputs": [
    {
     "data": {
      "text/plain": [
       "0    87070\n",
       "1    29653\n",
       "Name: Default, dtype: int64"
      ]
     },
     "execution_count": 7,
     "metadata": {},
     "output_type": "execute_result"
    }
   ],
   "source": [
    "loan_data['Default'].value_counts()"
   ]
  },
  {
   "cell_type": "code",
   "execution_count": 8,
   "metadata": {
    "colab": {
     "base_uri": "https://localhost:8080/"
    },
    "id": "Qxb7b8hnx1Z_",
    "outputId": "eeac5bb7-0286-442b-83b4-dff9f2e14afd"
   },
   "outputs": [
    {
     "data": {
      "text/plain": [
       "(116723, 18)"
      ]
     },
     "execution_count": 8,
     "metadata": {},
     "output_type": "execute_result"
    }
   ],
   "source": [
    "# total number  of rows and column in the loan_data\n",
    "\n",
    "loan_data.shape"
   ]
  },
  {
   "cell_type": "code",
   "execution_count": 9,
   "metadata": {
    "colab": {
     "base_uri": "https://localhost:8080/"
    },
    "id": "nA6qwrrqx4ep",
    "outputId": "53838eb7-4eb6-4ee2-83ad-3741b27fb676"
   },
   "outputs": [
    {
     "data": {
      "text/plain": [
       "array(['LoanID', 'Age', 'Income', 'LoanAmount', 'CreditScore',\n",
       "       'MonthsEmployed', 'NumCreditLines', 'InterestRate', 'LoanTerm',\n",
       "       'DTIRatio', 'Education', 'EmploymentType', 'MaritalStatus',\n",
       "       'HasMortgage', 'HasDependents', 'LoanPurpose', 'HasCoSigner',\n",
       "       'Default'], dtype=object)"
      ]
     },
     "execution_count": 9,
     "metadata": {},
     "output_type": "execute_result"
    }
   ],
   "source": [
    "# total number  of rows and column in the loan_data\n",
    "\n",
    "loan_data.columns.values"
   ]
  },
  {
   "cell_type": "code",
   "execution_count": 10,
   "metadata": {
    "colab": {
     "base_uri": "https://localhost:8080/"
    },
    "id": "lOL-VKuCzjDK",
    "outputId": "fdf59857-852b-458b-a3fd-beb667ff93a1"
   },
   "outputs": [
    {
     "name": "stdout",
     "output_type": "stream",
     "text": [
      "<class 'pandas.core.frame.DataFrame'>\n",
      "RangeIndex: 116723 entries, 0 to 116722\n",
      "Data columns (total 18 columns):\n",
      " #   Column          Non-Null Count   Dtype  \n",
      "---  ------          --------------   -----  \n",
      " 0   LoanID          116723 non-null  object \n",
      " 1   Age             116723 non-null  int64  \n",
      " 2   Income          116723 non-null  int64  \n",
      " 3   LoanAmount      116723 non-null  int64  \n",
      " 4   CreditScore     116723 non-null  int64  \n",
      " 5   MonthsEmployed  116723 non-null  int64  \n",
      " 6   NumCreditLines  116723 non-null  int64  \n",
      " 7   InterestRate    116723 non-null  float64\n",
      " 8   LoanTerm        116723 non-null  int64  \n",
      " 9   DTIRatio        116723 non-null  float64\n",
      " 10  Education       116723 non-null  object \n",
      " 11  EmploymentType  116723 non-null  object \n",
      " 12  MaritalStatus   116710 non-null  object \n",
      " 13  HasMortgage     116723 non-null  object \n",
      " 14  HasDependents   116723 non-null  object \n",
      " 15  LoanPurpose     116723 non-null  object \n",
      " 16  HasCoSigner     116723 non-null  object \n",
      " 17  Default         116723 non-null  int64  \n",
      "dtypes: float64(2), int64(8), object(8)\n",
      "memory usage: 16.0+ MB\n"
     ]
    }
   ],
   "source": [
    "# info() method in pandas is used to print summary of a DataFrame\n",
    "#  Setting verbose=True provides a more detailed output\n",
    "loan_data.info(verbose=True)"
   ]
  },
  {
   "cell_type": "code",
   "execution_count": 11,
   "metadata": {
    "colab": {
     "base_uri": "https://localhost:8080/",
     "height": 595
    },
    "id": "1HCIsh9iy3oi",
    "outputId": "d5d3c1fc-3826-41ac-d2ed-48cd9bbe0175"
   },
   "outputs": [
    {
     "data": {
      "text/plain": [
       "Text(0.5, 1.0, 'Count of target variable per category')"
      ]
     },
     "execution_count": 11,
     "metadata": {},
     "output_type": "execute_result"
    },
    {
     "data": {
      "image/png": "[encoded data removed]",
      "text/plain": [
       "<Figure size 800x600 with 1 Axes>"
      ]
     },
     "metadata": {},
     "output_type": "display_data"
    }
   ],
   "source": [
    "loan_data['Default'].value_counts().plot(kind='barh', figsize=(8,6)) #calculates the frequency of each unique value in the 'Default' column.\n",
    "plt.xlabel(\"Count\", labelpad=14)\n",
    "plt.ylabel(\"Target Variable\", labelpad=14) #labelpad is used to specify the distance of the labels from the axes.\n",
    "plt.title(\"Count of target variable per category\")"
   ]
  },
  {
   "cell_type": "code",
   "execution_count": 12,
   "metadata": {
    "colab": {
     "base_uri": "https://localhost:8080/",
     "height": 557
    },
    "id": "Hkuy0brG0Phg",
    "outputId": "1cab1f9a-4a82-47ac-a493-0c4c68e35140"
   },
   "outputs": [
    {
     "data": {
      "image/png": "[encoded data removed]",
      "text/plain": [
       "<Figure size 1600x500 with 1 Axes>"
      ]
     },
     "metadata": {},
     "output_type": "display_data"
    }
   ],
   "source": [
    "missing = pd.DataFrame((loan_data.isnull().sum())*100/loan_data.shape[0]).reset_index()\n",
    "plt.figure(figsize =(16,5))\n",
    "ax = sns.pointplot(x='index',y=0,data=missing)\n",
    "plt.xticks(rotation=90,fontsize=7)\n",
    "plt.title(\"Percentage of Missing Values\")\n",
    "plt.ylabel(\"PERCENTAGE\")\n",
    "plt.show()"
   ]
  },
  {
   "cell_type": "code",
   "execution_count": 13,
   "metadata": {
    "colab": {
     "base_uri": "https://localhost:8080/"
    },
    "id": "keEhC2KO0e0i",
    "outputId": "33c826da-8a1a-446f-bf51-f9b62d20e504"
   },
   "outputs": [
    {
     "data": {
      "text/plain": [
       "LoanID             0\n",
       "Age                0\n",
       "Income             0\n",
       "LoanAmount         0\n",
       "CreditScore        0\n",
       "MonthsEmployed     0\n",
       "NumCreditLines     0\n",
       "InterestRate       0\n",
       "LoanTerm           0\n",
       "DTIRatio           0\n",
       "Education          0\n",
       "EmploymentType     0\n",
       "MaritalStatus     13\n",
       "HasMortgage        0\n",
       "HasDependents      0\n",
       "LoanPurpose        0\n",
       "HasCoSigner        0\n",
       "Default            0\n",
       "dtype: int64"
      ]
     },
     "execution_count": 13,
     "metadata": {},
     "output_type": "execute_result"
    }
   ],
   "source": [
    "# check the no of records missing in each column\n",
    "loan_data.isnull().sum()"
   ]
  },
  {
   "cell_type": "code",
   "execution_count": 14,
   "metadata": {
    "colab": {
     "base_uri": "https://localhost:8080/",
     "height": 512
    },
    "id": "ugd-Dr0k0pEJ",
    "outputId": "eb5a3f18-bf62-4a67-ee2c-2994fb18b591"
   },
   "outputs": [
    {
     "data": {
      "text/html": [
       "<div>\n",
       "<style scoped>\n",
       "    .dataframe tbody tr th:only-of-type {\n",
       "        vertical-align: middle;\n",
       "    }\n",
       "\n",
       "    .dataframe tbody tr th {\n",
       "        vertical-align: top;\n",
       "    }\n",
       "\n",
       "    .dataframe thead th {\n",
       "        text-align: right;\n",
       "    }\n",
       "</style>\n",
       "<table border=\"1\" class=\"dataframe\">\n",
       "  <thead>\n",
       "    <tr style=\"text-align: right;\">\n",
       "      <th></th>\n",
       "      <th>LoanID</th>\n",
       "      <th>Age</th>\n",
       "      <th>Income</th>\n",
       "      <th>LoanAmount</th>\n",
       "      <th>CreditScore</th>\n",
       "      <th>MonthsEmployed</th>\n",
       "      <th>NumCreditLines</th>\n",
       "      <th>InterestRate</th>\n",
       "      <th>LoanTerm</th>\n",
       "      <th>DTIRatio</th>\n",
       "      <th>Education</th>\n",
       "      <th>EmploymentType</th>\n",
       "      <th>MaritalStatus</th>\n",
       "      <th>HasMortgage</th>\n",
       "      <th>HasDependents</th>\n",
       "      <th>LoanPurpose</th>\n",
       "      <th>HasCoSigner</th>\n",
       "      <th>Default</th>\n",
       "    </tr>\n",
       "  </thead>\n",
       "  <tbody>\n",
       "    <tr>\n",
       "      <th>2</th>\n",
       "      <td>1R0N3LGNRJ</td>\n",
       "      <td>36</td>\n",
       "      <td>15496</td>\n",
       "      <td>140956</td>\n",
       "      <td>752</td>\n",
       "      <td>0</td>\n",
       "      <td>1</td>\n",
       "      <td>23.94</td>\n",
       "      <td>48</td>\n",
       "      <td>0.20</td>\n",
       "      <td>Bachelor</td>\n",
       "      <td>Self-employed</td>\n",
       "      <td>NaN</td>\n",
       "      <td>Yes</td>\n",
       "      <td>No</td>\n",
       "      <td>Education</td>\n",
       "      <td>No</td>\n",
       "      <td>1</td>\n",
       "    </tr>\n",
       "    <tr>\n",
       "      <th>5</th>\n",
       "      <td>LXK7UEMLK0</td>\n",
       "      <td>19</td>\n",
       "      <td>16245</td>\n",
       "      <td>163341</td>\n",
       "      <td>372</td>\n",
       "      <td>0</td>\n",
       "      <td>3</td>\n",
       "      <td>15.29</td>\n",
       "      <td>36</td>\n",
       "      <td>0.22</td>\n",
       "      <td>PhD</td>\n",
       "      <td>Part-time</td>\n",
       "      <td>NaN</td>\n",
       "      <td>Yes</td>\n",
       "      <td>No</td>\n",
       "      <td>Business</td>\n",
       "      <td>Yes</td>\n",
       "      <td>1</td>\n",
       "    </tr>\n",
       "    <tr>\n",
       "      <th>10</th>\n",
       "      <td>06Q275JKQB</td>\n",
       "      <td>31</td>\n",
       "      <td>16698</td>\n",
       "      <td>36578</td>\n",
       "      <td>323</td>\n",
       "      <td>0</td>\n",
       "      <td>2</td>\n",
       "      <td>22.36</td>\n",
       "      <td>24</td>\n",
       "      <td>0.81</td>\n",
       "      <td>PhD</td>\n",
       "      <td>Unemployed</td>\n",
       "      <td>NaN</td>\n",
       "      <td>No</td>\n",
       "      <td>No</td>\n",
       "      <td>Education</td>\n",
       "      <td>Yes</td>\n",
       "      <td>1</td>\n",
       "    </tr>\n",
       "    <tr>\n",
       "      <th>14</th>\n",
       "      <td>YH36D287WZ</td>\n",
       "      <td>24</td>\n",
       "      <td>16986</td>\n",
       "      <td>42256</td>\n",
       "      <td>695</td>\n",
       "      <td>0</td>\n",
       "      <td>4</td>\n",
       "      <td>2.51</td>\n",
       "      <td>24</td>\n",
       "      <td>0.64</td>\n",
       "      <td>Bachelor</td>\n",
       "      <td>Part-time</td>\n",
       "      <td>NaN</td>\n",
       "      <td>Yes</td>\n",
       "      <td>No</td>\n",
       "      <td>Home</td>\n",
       "      <td>Yes</td>\n",
       "      <td>1</td>\n",
       "    </tr>\n",
       "    <tr>\n",
       "      <th>18</th>\n",
       "      <td>8T3I0PTR35</td>\n",
       "      <td>45</td>\n",
       "      <td>17225</td>\n",
       "      <td>31177</td>\n",
       "      <td>619</td>\n",
       "      <td>0</td>\n",
       "      <td>4</td>\n",
       "      <td>16.02</td>\n",
       "      <td>48</td>\n",
       "      <td>0.29</td>\n",
       "      <td>High School</td>\n",
       "      <td>Full-time</td>\n",
       "      <td>NaN</td>\n",
       "      <td>No</td>\n",
       "      <td>Yes</td>\n",
       "      <td>Home</td>\n",
       "      <td>Yes</td>\n",
       "      <td>1</td>\n",
       "    </tr>\n",
       "    <tr>\n",
       "      <th>19</th>\n",
       "      <td>8VKPI6WZUY</td>\n",
       "      <td>19</td>\n",
       "      <td>17255</td>\n",
       "      <td>156730</td>\n",
       "      <td>844</td>\n",
       "      <td>0</td>\n",
       "      <td>3</td>\n",
       "      <td>21.18</td>\n",
       "      <td>60</td>\n",
       "      <td>0.20</td>\n",
       "      <td>Bachelor</td>\n",
       "      <td>Full-time</td>\n",
       "      <td>NaN</td>\n",
       "      <td>Yes</td>\n",
       "      <td>No</td>\n",
       "      <td>Education</td>\n",
       "      <td>No</td>\n",
       "      <td>1</td>\n",
       "    </tr>\n",
       "    <tr>\n",
       "      <th>22</th>\n",
       "      <td>UK4OH3F6QS</td>\n",
       "      <td>26</td>\n",
       "      <td>17715</td>\n",
       "      <td>103214</td>\n",
       "      <td>448</td>\n",
       "      <td>0</td>\n",
       "      <td>3</td>\n",
       "      <td>15.39</td>\n",
       "      <td>36</td>\n",
       "      <td>0.75</td>\n",
       "      <td>PhD</td>\n",
       "      <td>Full-time</td>\n",
       "      <td>NaN</td>\n",
       "      <td>No</td>\n",
       "      <td>Yes</td>\n",
       "      <td>Other</td>\n",
       "      <td>No</td>\n",
       "      <td>1</td>\n",
       "    </tr>\n",
       "    <tr>\n",
       "      <th>16875</th>\n",
       "      <td>JS6VXKL2TC</td>\n",
       "      <td>69</td>\n",
       "      <td>25156</td>\n",
       "      <td>162197</td>\n",
       "      <td>631</td>\n",
       "      <td>16</td>\n",
       "      <td>4</td>\n",
       "      <td>21.46</td>\n",
       "      <td>48</td>\n",
       "      <td>0.15</td>\n",
       "      <td>Bachelor</td>\n",
       "      <td>Self-employed</td>\n",
       "      <td>NaN</td>\n",
       "      <td>No</td>\n",
       "      <td>Yes</td>\n",
       "      <td>Education</td>\n",
       "      <td>No</td>\n",
       "      <td>0</td>\n",
       "    </tr>\n",
       "    <tr>\n",
       "      <th>16878</th>\n",
       "      <td>T5XOG0UMVW</td>\n",
       "      <td>22</td>\n",
       "      <td>25380</td>\n",
       "      <td>162261</td>\n",
       "      <td>576</td>\n",
       "      <td>16</td>\n",
       "      <td>2</td>\n",
       "      <td>19.38</td>\n",
       "      <td>48</td>\n",
       "      <td>0.40</td>\n",
       "      <td>Bachelor</td>\n",
       "      <td>Self-employed</td>\n",
       "      <td>NaN</td>\n",
       "      <td>Yes</td>\n",
       "      <td>No</td>\n",
       "      <td>Auto</td>\n",
       "      <td>No</td>\n",
       "      <td>0</td>\n",
       "    </tr>\n",
       "    <tr>\n",
       "      <th>16886</th>\n",
       "      <td>46S3ZSIO75</td>\n",
       "      <td>36</td>\n",
       "      <td>26282</td>\n",
       "      <td>214928</td>\n",
       "      <td>611</td>\n",
       "      <td>16</td>\n",
       "      <td>2</td>\n",
       "      <td>17.61</td>\n",
       "      <td>48</td>\n",
       "      <td>0.47</td>\n",
       "      <td>High School</td>\n",
       "      <td>Self-employed</td>\n",
       "      <td>NaN</td>\n",
       "      <td>No</td>\n",
       "      <td>Yes</td>\n",
       "      <td>Education</td>\n",
       "      <td>No</td>\n",
       "      <td>0</td>\n",
       "    </tr>\n",
       "    <tr>\n",
       "      <th>16888</th>\n",
       "      <td>27HXZ87OTU</td>\n",
       "      <td>46</td>\n",
       "      <td>26287</td>\n",
       "      <td>15422</td>\n",
       "      <td>565</td>\n",
       "      <td>16</td>\n",
       "      <td>2</td>\n",
       "      <td>7.54</td>\n",
       "      <td>24</td>\n",
       "      <td>0.33</td>\n",
       "      <td>Bachelor</td>\n",
       "      <td>Self-employed</td>\n",
       "      <td>NaN</td>\n",
       "      <td>Yes</td>\n",
       "      <td>Yes</td>\n",
       "      <td>Home</td>\n",
       "      <td>Yes</td>\n",
       "      <td>0</td>\n",
       "    </tr>\n",
       "    <tr>\n",
       "      <th>16891</th>\n",
       "      <td>P19UV48424</td>\n",
       "      <td>37</td>\n",
       "      <td>26479</td>\n",
       "      <td>169176</td>\n",
       "      <td>622</td>\n",
       "      <td>16</td>\n",
       "      <td>4</td>\n",
       "      <td>17.90</td>\n",
       "      <td>12</td>\n",
       "      <td>0.27</td>\n",
       "      <td>Master</td>\n",
       "      <td>Self-employed</td>\n",
       "      <td>NaN</td>\n",
       "      <td>Yes</td>\n",
       "      <td>No</td>\n",
       "      <td>Business</td>\n",
       "      <td>No</td>\n",
       "      <td>0</td>\n",
       "    </tr>\n",
       "    <tr>\n",
       "      <th>16893</th>\n",
       "      <td>NQBJ4FU9F2</td>\n",
       "      <td>27</td>\n",
       "      <td>26563</td>\n",
       "      <td>194668</td>\n",
       "      <td>471</td>\n",
       "      <td>16</td>\n",
       "      <td>3</td>\n",
       "      <td>11.36</td>\n",
       "      <td>36</td>\n",
       "      <td>0.61</td>\n",
       "      <td>Bachelor</td>\n",
       "      <td>Full-time</td>\n",
       "      <td>NaN</td>\n",
       "      <td>Yes</td>\n",
       "      <td>No</td>\n",
       "      <td>Education</td>\n",
       "      <td>Yes</td>\n",
       "      <td>0</td>\n",
       "    </tr>\n",
       "  </tbody>\n",
       "</table>\n",
       "</div>"
      ],
      "text/plain": [
       "           LoanID  Age  Income  LoanAmount  CreditScore  MonthsEmployed  \\\n",
       "2      1R0N3LGNRJ   36   15496      140956          752               0   \n",
       "5      LXK7UEMLK0   19   16245      163341          372               0   \n",
       "10     06Q275JKQB   31   16698       36578          323               0   \n",
       "14     YH36D287WZ   24   16986       42256          695               0   \n",
       "18     8T3I0PTR35   45   17225       31177          619               0   \n",
       "19     8VKPI6WZUY   19   17255      156730          844               0   \n",
       "22     UK4OH3F6QS   26   17715      103214          448               0   \n",
       "16875  JS6VXKL2TC   69   25156      162197          631              16   \n",
       "16878  T5XOG0UMVW   22   25380      162261          576              16   \n",
       "16886  46S3ZSIO75   36   26282      214928          611              16   \n",
       "16888  27HXZ87OTU   46   26287       15422          565              16   \n",
       "16891  P19UV48424   37   26479      169176          622              16   \n",
       "16893  NQBJ4FU9F2   27   26563      194668          471              16   \n",
       "\n",
       "       NumCreditLines  InterestRate  LoanTerm  DTIRatio    Education  \\\n",
       "2                   1         23.94        48      0.20     Bachelor   \n",
       "5                   3         15.29        36      0.22          PhD   \n",
       "10                  2         22.36        24      0.81          PhD   \n",
       "14                  4          2.51        24      0.64     Bachelor   \n",
       "18                  4         16.02        48      0.29  High School   \n",
       "19                  3         21.18        60      0.20     Bachelor   \n",
       "22                  3         15.39        36      0.75          PhD   \n",
       "16875               4         21.46        48      0.15     Bachelor   \n",
       "16878               2         19.38        48      0.40     Bachelor   \n",
       "16886               2         17.61        48      0.47  High School   \n",
       "16888               2          7.54        24      0.33     Bachelor   \n",
       "16891               4         17.90        12      0.27       Master   \n",
       "16893               3         11.36        36      0.61     Bachelor   \n",
       "\n",
       "      EmploymentType MaritalStatus HasMortgage HasDependents LoanPurpose  \\\n",
       "2      Self-employed           NaN         Yes            No   Education   \n",
       "5          Part-time           NaN         Yes            No    Business   \n",
       "10        Unemployed           NaN          No            No   Education   \n",
       "14         Part-time           NaN         Yes            No        Home   \n",
       "18         Full-time           NaN          No           Yes        Home   \n",
       "19         Full-time           NaN         Yes            No   Education   \n",
       "22         Full-time           NaN          No           Yes       Other   \n",
       "16875  Self-employed           NaN          No           Yes   Education   \n",
       "16878  Self-employed           NaN         Yes            No        Auto   \n",
       "16886  Self-employed           NaN          No           Yes   Education   \n",
       "16888  Self-employed           NaN         Yes           Yes        Home   \n",
       "16891  Self-employed           NaN         Yes            No    Business   \n",
       "16893      Full-time           NaN         Yes            No   Education   \n",
       "\n",
       "      HasCoSigner  Default  \n",
       "2              No        1  \n",
       "5             Yes        1  \n",
       "10            Yes        1  \n",
       "14            Yes        1  \n",
       "18            Yes        1  \n",
       "19             No        1  \n",
       "22             No        1  \n",
       "16875          No        0  \n",
       "16878          No        0  \n",
       "16886          No        0  \n",
       "16888         Yes        0  \n",
       "16891          No        0  \n",
       "16893         Yes        0  "
      ]
     },
     "execution_count": 14,
     "metadata": {},
     "output_type": "execute_result"
    }
   ],
   "source": [
    "# check the records which having the missing values\n",
    "\n",
    "loan_data.loc[loan_data['MaritalStatus'].isnull()==True]"
   ]
  },
  {
   "cell_type": "code",
   "execution_count": 15,
   "metadata": {
    "id": "wScAc8k6VUjD"
   },
   "outputs": [],
   "source": [
    "# removes rows containing any missing values from the data\n",
    "# how='any' specifies that rows containing any missing values will be dropped\n",
    "# inplace=True specifies that the operation should be done in place, meaning it modifies the original DataFrame telco_data_new instead of returning a new DataFrame.\n",
    "loan_data.dropna(how='any',inplace=True)"
   ]
  },
  {
   "cell_type": "code",
   "execution_count": 16,
   "metadata": {
    "colab": {
     "base_uri": "https://localhost:8080/"
    },
    "id": "x5WNrH6lV_7v",
    "outputId": "19d3980a-8293-4c65-8114-2b4bd9c20ed4"
   },
   "outputs": [
    {
     "data": {
      "text/plain": [
       "LoanID            0\n",
       "Age               0\n",
       "Income            0\n",
       "LoanAmount        0\n",
       "CreditScore       0\n",
       "MonthsEmployed    0\n",
       "NumCreditLines    0\n",
       "InterestRate      0\n",
       "LoanTerm          0\n",
       "DTIRatio          0\n",
       "Education         0\n",
       "EmploymentType    0\n",
       "MaritalStatus     0\n",
       "HasMortgage       0\n",
       "HasDependents     0\n",
       "LoanPurpose       0\n",
       "HasCoSigner       0\n",
       "Default           0\n",
       "dtype: int64"
      ]
     },
     "execution_count": 16,
     "metadata": {},
     "output_type": "execute_result"
    }
   ],
   "source": [
    "loan_data.isnull().sum()"
   ]
  },
  {
   "cell_type": "code",
   "execution_count": 17,
   "metadata": {
    "colab": {
     "base_uri": "https://localhost:8080/"
    },
    "id": "oGQVdGCmVVGi",
    "outputId": "0541aa4b-606b-487b-b648-5013e6bebda4"
   },
   "outputs": [
    {
     "data": {
      "text/plain": [
       "0"
      ]
     },
     "execution_count": 17,
     "metadata": {},
     "output_type": "execute_result"
    }
   ],
   "source": [
    "loan_data.duplicated().sum()\n"
   ]
  },
  {
   "cell_type": "code",
   "execution_count": 18,
   "metadata": {
    "id": "O5pWgQTFY8F5"
   },
   "outputs": [],
   "source": [
    "loan_data_new=loan_data.copy()"
   ]
  },
  {
   "cell_type": "code",
   "execution_count": 19,
   "metadata": {
    "colab": {
     "base_uri": "https://localhost:8080/"
    },
    "id": "6A44aBZLdRlv",
    "outputId": "cf2d46ca-a89f-4da6-88db-df207e4cc70d"
   },
   "outputs": [
    {
     "name": "stdout",
     "output_type": "stream",
     "text": [
      "Index(['Age', 'Income', 'LoanAmount', 'CreditScore', 'MonthsEmployed',\n",
      "       'NumCreditLines', 'InterestRate', 'LoanTerm', 'DTIRatio', 'Education',\n",
      "       'EmploymentType', 'MaritalStatus', 'HasMortgage', 'HasDependents',\n",
      "       'LoanPurpose', 'HasCoSigner', 'Default'],\n",
      "      dtype='object')\n"
     ]
    }
   ],
   "source": [
    "\n",
    "loan_data_new.drop('LoanID', axis=1,inplace=True)\n",
    "\n",
    "print(loan_data_new.columns)\n",
    "\n"
   ]
  },
  {
   "cell_type": "code",
   "execution_count": 20,
   "metadata": {
    "id": "_2PnQtVoZNp-"
   },
   "outputs": [],
   "source": [
    "#  Handling Categorical Columns by doing label encoding\n",
    "\n",
    "# categorical_variables=['Education', 'EmploymentType', 'MaritalStatus', 'HasMortgage',\n",
    "#                        'HasDependents', 'LoanPurpose','HasCoSigner']\n",
    "\n",
    "\n",
    "# numerical_variables=['Age', 'Income', 'LoanAmount', 'CreditScore',\n",
    "#                      'MonthsEmployed', 'InterestRate', 'LoanTerm', 'DTIRatio', 'Default']\n",
    "\n"
   ]
  },
  {
   "cell_type": "code",
   "execution_count": 21,
   "metadata": {
    "colab": {
     "base_uri": "https://localhost:8080/"
    },
    "id": "4yt9a66kfZyE",
    "outputId": "364e5c18-ce17-4337-c19a-1c00fd7b403e"
   },
   "outputs": [
    {
     "data": {
      "text/plain": [
       "array(['Unemployed', 'Full-time', 'Self-employed', 'Part-time'],\n",
       "      dtype=object)"
      ]
     },
     "execution_count": 21,
     "metadata": {},
     "output_type": "execute_result"
    }
   ],
   "source": [
    "loan_data_new['EmploymentType'].unique()\n"
   ]
  },
  {
   "cell_type": "code",
   "execution_count": 22,
   "metadata": {
    "colab": {
     "base_uri": "https://localhost:8080/"
    },
    "id": "b231un75fZzt",
    "outputId": "1f0de7d9-4542-4bbb-a440-39ce7edbfbd8"
   },
   "outputs": [
    {
     "data": {
      "text/plain": [
       "array(['Divorced', 'Single', 'Married'], dtype=object)"
      ]
     },
     "execution_count": 22,
     "metadata": {},
     "output_type": "execute_result"
    }
   ],
   "source": [
    "loan_data_new['MaritalStatus'].unique()\n"
   ]
  },
  {
   "cell_type": "code",
   "execution_count": 23,
   "metadata": {
    "colab": {
     "base_uri": "https://localhost:8080/"
    },
    "id": "VfVWfBFDfZ3a",
    "outputId": "48bf252d-43bb-4aac-adad-a2bf7a234eac"
   },
   "outputs": [
    {
     "data": {
      "text/plain": [
       "array(['Master', 'High School', 'PhD', 'Bachelor'], dtype=object)"
      ]
     },
     "execution_count": 23,
     "metadata": {},
     "output_type": "execute_result"
    }
   ],
   "source": [
    "loan_data_new['Education'].unique()\n"
   ]
  },
  {
   "cell_type": "code",
   "execution_count": 24,
   "metadata": {
    "colab": {
     "base_uri": "https://localhost:8080/"
    },
    "id": "dsKoVShffZ6O",
    "outputId": "524a2759-a073-41cb-cee1-f4282a042bd0"
   },
   "outputs": [
    {
     "data": {
      "text/plain": [
       "array(['Yes', 'No'], dtype=object)"
      ]
     },
     "execution_count": 24,
     "metadata": {},
     "output_type": "execute_result"
    }
   ],
   "source": [
    "loan_data_new['HasMortgage'].unique()\n"
   ]
  },
  {
   "cell_type": "code",
   "execution_count": 25,
   "metadata": {
    "colab": {
     "base_uri": "https://localhost:8080/"
    },
    "id": "Rn9yf4P7fZ84",
    "outputId": "647fe9cf-670a-4d44-9474-9dcf9493f291"
   },
   "outputs": [
    {
     "data": {
      "text/plain": [
       "array(['Yes', 'No'], dtype=object)"
      ]
     },
     "execution_count": 25,
     "metadata": {},
     "output_type": "execute_result"
    }
   ],
   "source": [
    "loan_data_new['HasDependents'].unique()\n"
   ]
  },
  {
   "cell_type": "code",
   "execution_count": 26,
   "metadata": {
    "colab": {
     "base_uri": "https://localhost:8080/"
    },
    "id": "G2kJ1-I1fZ-2",
    "outputId": "4b43f655-454f-48d5-e61f-2d444d11bbea"
   },
   "outputs": [
    {
     "data": {
      "text/plain": [
       "array(['Auto', 'Business', 'Education', 'Home', 'Other'], dtype=object)"
      ]
     },
     "execution_count": 26,
     "metadata": {},
     "output_type": "execute_result"
    }
   ],
   "source": [
    "loan_data_new['LoanPurpose'].unique()\n"
   ]
  },
  {
   "cell_type": "code",
   "execution_count": 27,
   "metadata": {
    "colab": {
     "base_uri": "https://localhost:8080/"
    },
    "id": "XDrOV-cdflYF",
    "outputId": "c4b459aa-f059-439c-bc8a-aa2ca8ad8923"
   },
   "outputs": [
    {
     "data": {
      "text/plain": [
       "array(['No', 'Yes'], dtype=object)"
      ]
     },
     "execution_count": 27,
     "metadata": {},
     "output_type": "execute_result"
    }
   ],
   "source": [
    "loan_data_new['HasCoSigner'].unique()\n"
   ]
  },
  {
   "cell_type": "code",
   "execution_count": null,
   "metadata": {
    "id": "WCLHRPBChdW9"
   },
   "outputs": [],
   "source": []
  },
  {
   "cell_type": "code",
   "execution_count": 28,
   "metadata": {
    "id": "-_lIc9xecwgi"
   },
   "outputs": [],
   "source": [
    "loan_data_new['Education'] = loan_data_new['Education'].map({'High School':0,'Bachelor':1,'Master':2,'PhD':3}).astype('int')\n",
    "loan_data_new['EmploymentType'] = loan_data_new['EmploymentType'].map({'Unemployed':0,'Full-time':1,'Self-employed':2,'Part-time':3}).astype('int')\n",
    "loan_data_new['MaritalStatus'] = loan_data_new['MaritalStatus'].map({'Single':0,'Married':1,'Divorced':2}).astype('int')\n",
    "loan_data_new['HasMortgage'] = loan_data_new['HasMortgage'].map({'Yes':1,'No':0}).astype('int')\n",
    "loan_data_new['HasDependents'] = loan_data_new['HasDependents'].map({'Yes':1,'No':0}).astype('int')\n",
    "loan_data_new['LoanPurpose'] = loan_data_new['LoanPurpose'].map({'Auto':0, 'Business':1, 'Education':2, 'Home':3, 'Other':4}).astype('int')\n",
    "loan_data_new['HasCoSigner'] = loan_data_new['HasCoSigner'].map({'Yes':1,'No':0}).astype('int')\n",
    "\n"
   ]
  },
  {
   "cell_type": "code",
   "execution_count": 29,
   "metadata": {
    "colab": {
     "base_uri": "https://localhost:8080/",
     "height": 226
    },
    "id": "V6rnWFV1lD7i",
    "outputId": "66bfa548-c9aa-4bb5-d8d9-e41a87c52461"
   },
   "outputs": [
    {
     "data": {
      "text/html": [
       "<div>\n",
       "<style scoped>\n",
       "    .dataframe tbody tr th:only-of-type {\n",
       "        vertical-align: middle;\n",
       "    }\n",
       "\n",
       "    .dataframe tbody tr th {\n",
       "        vertical-align: top;\n",
       "    }\n",
       "\n",
       "    .dataframe thead th {\n",
       "        text-align: right;\n",
       "    }\n",
       "</style>\n",
       "<table border=\"1\" class=\"dataframe\">\n",
       "  <thead>\n",
       "    <tr style=\"text-align: right;\">\n",
       "      <th></th>\n",
       "      <th>Age</th>\n",
       "      <th>Income</th>\n",
       "      <th>LoanAmount</th>\n",
       "      <th>CreditScore</th>\n",
       "      <th>MonthsEmployed</th>\n",
       "      <th>NumCreditLines</th>\n",
       "      <th>InterestRate</th>\n",
       "      <th>LoanTerm</th>\n",
       "      <th>DTIRatio</th>\n",
       "      <th>Education</th>\n",
       "      <th>EmploymentType</th>\n",
       "      <th>MaritalStatus</th>\n",
       "      <th>HasMortgage</th>\n",
       "      <th>HasDependents</th>\n",
       "      <th>LoanPurpose</th>\n",
       "      <th>HasCoSigner</th>\n",
       "      <th>Default</th>\n",
       "    </tr>\n",
       "  </thead>\n",
       "  <tbody>\n",
       "    <tr>\n",
       "      <th>0</th>\n",
       "      <td>46</td>\n",
       "      <td>15301</td>\n",
       "      <td>177267</td>\n",
       "      <td>645</td>\n",
       "      <td>0</td>\n",
       "      <td>3</td>\n",
       "      <td>21.17</td>\n",
       "      <td>24</td>\n",
       "      <td>0.31</td>\n",
       "      <td>2</td>\n",
       "      <td>0</td>\n",
       "      <td>2</td>\n",
       "      <td>1</td>\n",
       "      <td>1</td>\n",
       "      <td>0</td>\n",
       "      <td>0</td>\n",
       "      <td>1</td>\n",
       "    </tr>\n",
       "    <tr>\n",
       "      <th>1</th>\n",
       "      <td>25</td>\n",
       "      <td>15376</td>\n",
       "      <td>27548</td>\n",
       "      <td>760</td>\n",
       "      <td>0</td>\n",
       "      <td>2</td>\n",
       "      <td>22.72</td>\n",
       "      <td>24</td>\n",
       "      <td>0.10</td>\n",
       "      <td>0</td>\n",
       "      <td>0</td>\n",
       "      <td>0</td>\n",
       "      <td>1</td>\n",
       "      <td>0</td>\n",
       "      <td>1</td>\n",
       "      <td>1</td>\n",
       "      <td>1</td>\n",
       "    </tr>\n",
       "    <tr>\n",
       "      <th>3</th>\n",
       "      <td>28</td>\n",
       "      <td>15828</td>\n",
       "      <td>55923</td>\n",
       "      <td>481</td>\n",
       "      <td>0</td>\n",
       "      <td>3</td>\n",
       "      <td>5.84</td>\n",
       "      <td>36</td>\n",
       "      <td>0.80</td>\n",
       "      <td>3</td>\n",
       "      <td>1</td>\n",
       "      <td>2</td>\n",
       "      <td>0</td>\n",
       "      <td>0</td>\n",
       "      <td>2</td>\n",
       "      <td>1</td>\n",
       "      <td>1</td>\n",
       "    </tr>\n",
       "    <tr>\n",
       "      <th>4</th>\n",
       "      <td>19</td>\n",
       "      <td>16157</td>\n",
       "      <td>74553</td>\n",
       "      <td>498</td>\n",
       "      <td>0</td>\n",
       "      <td>2</td>\n",
       "      <td>14.00</td>\n",
       "      <td>24</td>\n",
       "      <td>0.17</td>\n",
       "      <td>1</td>\n",
       "      <td>2</td>\n",
       "      <td>2</td>\n",
       "      <td>1</td>\n",
       "      <td>0</td>\n",
       "      <td>2</td>\n",
       "      <td>0</td>\n",
       "      <td>1</td>\n",
       "    </tr>\n",
       "    <tr>\n",
       "      <th>6</th>\n",
       "      <td>39</td>\n",
       "      <td>16439</td>\n",
       "      <td>160465</td>\n",
       "      <td>604</td>\n",
       "      <td>0</td>\n",
       "      <td>3</td>\n",
       "      <td>7.86</td>\n",
       "      <td>36</td>\n",
       "      <td>0.66</td>\n",
       "      <td>0</td>\n",
       "      <td>1</td>\n",
       "      <td>0</td>\n",
       "      <td>1</td>\n",
       "      <td>1</td>\n",
       "      <td>0</td>\n",
       "      <td>1</td>\n",
       "      <td>1</td>\n",
       "    </tr>\n",
       "  </tbody>\n",
       "</table>\n",
       "</div>"
      ],
      "text/plain": [
       "   Age  Income  LoanAmount  CreditScore  MonthsEmployed  NumCreditLines  \\\n",
       "0   46   15301      177267          645               0               3   \n",
       "1   25   15376       27548          760               0               2   \n",
       "3   28   15828       55923          481               0               3   \n",
       "4   19   16157       74553          498               0               2   \n",
       "6   39   16439      160465          604               0               3   \n",
       "\n",
       "   InterestRate  LoanTerm  DTIRatio  Education  EmploymentType  MaritalStatus  \\\n",
       "0         21.17        24      0.31          2               0              2   \n",
       "1         22.72        24      0.10          0               0              0   \n",
       "3          5.84        36      0.80          3               1              2   \n",
       "4         14.00        24      0.17          1               2              2   \n",
       "6          7.86        36      0.66          0               1              0   \n",
       "\n",
       "   HasMortgage  HasDependents  LoanPurpose  HasCoSigner  Default  \n",
       "0            1              1            0            0        1  \n",
       "1            1              0            1            1        1  \n",
       "3            0              0            2            1        1  \n",
       "4            1              0            2            0        1  \n",
       "6            1              1            0            1        1  "
      ]
     },
     "execution_count": 29,
     "metadata": {},
     "output_type": "execute_result"
    }
   ],
   "source": [
    "# print(loan_data_new.head())\n",
    "loan_data_new.head()"
   ]
  },
  {
   "cell_type": "code",
   "execution_count": 30,
   "metadata": {
    "colab": {
     "base_uri": "https://localhost:8080/",
     "height": 743
    },
    "id": "fBnTJUkY8mtq",
    "outputId": "e8c5fbd8-54fe-4ffc-9d4f-9ff0b3d3564e"
   },
   "outputs": [
    {
     "data": {
      "text/plain": [
       "<Axes: >"
      ]
     },
     "execution_count": 30,
     "metadata": {},
     "output_type": "execute_result"
    },
    {
     "data": {
      "image/png": "[encoded data removed]",
      "text/plain": [
       "<Figure size 2000x800 with 1 Axes>"
      ]
     },
     "metadata": {},
     "output_type": "display_data"
    }
   ],
   "source": [
    "plt.figure(figsize=(20,8))\n",
    "loan_data_new.corr()['Default'].sort_values(ascending = False).plot(kind='bar')"
   ]
  },
  {
   "cell_type": "code",
   "execution_count": 31,
   "metadata": {
    "colab": {
     "base_uri": "https://localhost:8080/"
    },
    "id": "3RVtzaZBid-S",
    "outputId": "d4d709fe-87ca-4cf1-a127-964b09fedd49"
   },
   "outputs": [
    {
     "name": "stdout",
     "output_type": "stream",
     "text": [
      "Index(['Age', 'Income', 'LoanAmount', 'CreditScore', 'MonthsEmployed',\n",
      "       'NumCreditLines', 'InterestRate', 'DTIRatio', 'Education',\n",
      "       'EmploymentType', 'HasMortgage', 'HasDependents', 'LoanPurpose',\n",
      "       'HasCoSigner', 'Default'],\n",
      "      dtype='object')\n"
     ]
    }
   ],
   "source": [
    "loan_data_new.drop('LoanTerm', axis=1,inplace=True)\n",
    "loan_data_new.drop('MaritalStatus', axis=1,inplace=True)\n",
    "\n",
    "print(loan_data_new.columns)"
   ]
  },
  {
   "cell_type": "code",
   "execution_count": 32,
   "metadata": {
    "id": "yY6mgIbEqJxz"
   },
   "outputs": [],
   "source": [
    "#  Store Feature Matrix In X And Response (Target) In Vector y\n",
    "\n",
    "X = loan_data_new.drop('Default',axis=1)\n",
    "y = loan_data_new['Default']"
   ]
  },
  {
   "cell_type": "code",
   "execution_count": 33,
   "metadata": {
    "id": "hcc3TiGkqDYL"
   },
   "outputs": [],
   "source": [
    "# scalingFeature\n",
    "cols = ['Income','LoanAmount','CreditScore','MonthsEmployed']"
   ]
  },
  {
   "cell_type": "code",
   "execution_count": 34,
   "metadata": {
    "id": "wFj3UVvFqEFg"
   },
   "outputs": [],
   "source": [
    "from sklearn.preprocessing import StandardScaler\n",
    "st = StandardScaler()\n",
    "X[cols]=st.fit_transform(X[cols])"
   ]
  },
  {
   "cell_type": "code",
   "execution_count": 35,
   "metadata": {
    "colab": {
     "base_uri": "https://localhost:8080/",
     "height": 424
    },
    "id": "_VYnW0jJqER1",
    "outputId": "72deef59-2c56-412f-93b0-4ae3b9f4bcb7"
   },
   "outputs": [
    {
     "data": {
      "text/html": [
       "<div>\n",
       "<style scoped>\n",
       "    .dataframe tbody tr th:only-of-type {\n",
       "        vertical-align: middle;\n",
       "    }\n",
       "\n",
       "    .dataframe tbody tr th {\n",
       "        vertical-align: top;\n",
       "    }\n",
       "\n",
       "    .dataframe thead th {\n",
       "        text-align: right;\n",
       "    }\n",
       "</style>\n",
       "<table border=\"1\" class=\"dataframe\">\n",
       "  <thead>\n",
       "    <tr style=\"text-align: right;\">\n",
       "      <th></th>\n",
       "      <th>Age</th>\n",
       "      <th>Income</th>\n",
       "      <th>LoanAmount</th>\n",
       "      <th>CreditScore</th>\n",
       "      <th>MonthsEmployed</th>\n",
       "      <th>NumCreditLines</th>\n",
       "      <th>InterestRate</th>\n",
       "      <th>DTIRatio</th>\n",
       "      <th>Education</th>\n",
       "      <th>EmploymentType</th>\n",
       "      <th>HasMortgage</th>\n",
       "      <th>HasDependents</th>\n",
       "      <th>LoanPurpose</th>\n",
       "      <th>HasCoSigner</th>\n",
       "    </tr>\n",
       "  </thead>\n",
       "  <tbody>\n",
       "    <tr>\n",
       "      <th>0</th>\n",
       "      <td>46</td>\n",
       "      <td>-1.659118</td>\n",
       "      <td>0.664167</td>\n",
       "      <td>0.459188</td>\n",
       "      <td>-1.674905</td>\n",
       "      <td>3</td>\n",
       "      <td>21.17</td>\n",
       "      <td>0.31</td>\n",
       "      <td>2</td>\n",
       "      <td>0</td>\n",
       "      <td>1</td>\n",
       "      <td>1</td>\n",
       "      <td>0</td>\n",
       "      <td>0</td>\n",
       "    </tr>\n",
       "    <tr>\n",
       "      <th>1</th>\n",
       "      <td>25</td>\n",
       "      <td>-1.657217</td>\n",
       "      <td>-1.448886</td>\n",
       "      <td>1.182150</td>\n",
       "      <td>-1.674905</td>\n",
       "      <td>2</td>\n",
       "      <td>22.72</td>\n",
       "      <td>0.10</td>\n",
       "      <td>0</td>\n",
       "      <td>0</td>\n",
       "      <td>1</td>\n",
       "      <td>0</td>\n",
       "      <td>1</td>\n",
       "      <td>1</td>\n",
       "    </tr>\n",
       "    <tr>\n",
       "      <th>3</th>\n",
       "      <td>28</td>\n",
       "      <td>-1.645759</td>\n",
       "      <td>-1.048417</td>\n",
       "      <td>-0.571818</td>\n",
       "      <td>-1.674905</td>\n",
       "      <td>3</td>\n",
       "      <td>5.84</td>\n",
       "      <td>0.80</td>\n",
       "      <td>3</td>\n",
       "      <td>1</td>\n",
       "      <td>0</td>\n",
       "      <td>0</td>\n",
       "      <td>2</td>\n",
       "      <td>1</td>\n",
       "    </tr>\n",
       "    <tr>\n",
       "      <th>4</th>\n",
       "      <td>19</td>\n",
       "      <td>-1.637418</td>\n",
       "      <td>-0.785483</td>\n",
       "      <td>-0.464946</td>\n",
       "      <td>-1.674905</td>\n",
       "      <td>2</td>\n",
       "      <td>14.00</td>\n",
       "      <td>0.17</td>\n",
       "      <td>1</td>\n",
       "      <td>2</td>\n",
       "      <td>1</td>\n",
       "      <td>0</td>\n",
       "      <td>2</td>\n",
       "      <td>0</td>\n",
       "    </tr>\n",
       "    <tr>\n",
       "      <th>6</th>\n",
       "      <td>39</td>\n",
       "      <td>-1.630270</td>\n",
       "      <td>0.427032</td>\n",
       "      <td>0.201437</td>\n",
       "      <td>-1.674905</td>\n",
       "      <td>3</td>\n",
       "      <td>7.86</td>\n",
       "      <td>0.66</td>\n",
       "      <td>0</td>\n",
       "      <td>1</td>\n",
       "      <td>1</td>\n",
       "      <td>1</td>\n",
       "      <td>0</td>\n",
       "      <td>1</td>\n",
       "    </tr>\n",
       "    <tr>\n",
       "      <th>...</th>\n",
       "      <td>...</td>\n",
       "      <td>...</td>\n",
       "      <td>...</td>\n",
       "      <td>...</td>\n",
       "      <td>...</td>\n",
       "      <td>...</td>\n",
       "      <td>...</td>\n",
       "      <td>...</td>\n",
       "      <td>...</td>\n",
       "      <td>...</td>\n",
       "      <td>...</td>\n",
       "      <td>...</td>\n",
       "      <td>...</td>\n",
       "      <td>...</td>\n",
       "    </tr>\n",
       "    <tr>\n",
       "      <th>116718</th>\n",
       "      <td>65</td>\n",
       "      <td>1.720391</td>\n",
       "      <td>-1.175579</td>\n",
       "      <td>1.320456</td>\n",
       "      <td>1.754507</td>\n",
       "      <td>3</td>\n",
       "      <td>20.17</td>\n",
       "      <td>0.63</td>\n",
       "      <td>0</td>\n",
       "      <td>0</td>\n",
       "      <td>1</td>\n",
       "      <td>1</td>\n",
       "      <td>0</td>\n",
       "      <td>0</td>\n",
       "    </tr>\n",
       "    <tr>\n",
       "      <th>116719</th>\n",
       "      <td>50</td>\n",
       "      <td>1.727337</td>\n",
       "      <td>0.723373</td>\n",
       "      <td>1.056418</td>\n",
       "      <td>1.754507</td>\n",
       "      <td>4</td>\n",
       "      <td>11.77</td>\n",
       "      <td>0.47</td>\n",
       "      <td>3</td>\n",
       "      <td>0</td>\n",
       "      <td>1</td>\n",
       "      <td>0</td>\n",
       "      <td>1</td>\n",
       "      <td>0</td>\n",
       "    </tr>\n",
       "    <tr>\n",
       "      <th>116720</th>\n",
       "      <td>22</td>\n",
       "      <td>1.729872</td>\n",
       "      <td>-0.573838</td>\n",
       "      <td>1.659934</td>\n",
       "      <td>1.754507</td>\n",
       "      <td>1</td>\n",
       "      <td>21.86</td>\n",
       "      <td>0.52</td>\n",
       "      <td>3</td>\n",
       "      <td>0</td>\n",
       "      <td>1</td>\n",
       "      <td>1</td>\n",
       "      <td>2</td>\n",
       "      <td>0</td>\n",
       "    </tr>\n",
       "    <tr>\n",
       "      <th>116721</th>\n",
       "      <td>40</td>\n",
       "      <td>1.748504</td>\n",
       "      <td>0.670221</td>\n",
       "      <td>-0.131755</td>\n",
       "      <td>1.754507</td>\n",
       "      <td>3</td>\n",
       "      <td>9.91</td>\n",
       "      <td>0.23</td>\n",
       "      <td>0</td>\n",
       "      <td>3</td>\n",
       "      <td>1</td>\n",
       "      <td>0</td>\n",
       "      <td>3</td>\n",
       "      <td>1</td>\n",
       "    </tr>\n",
       "    <tr>\n",
       "      <th>116722</th>\n",
       "      <td>32</td>\n",
       "      <td>1.752509</td>\n",
       "      <td>1.387242</td>\n",
       "      <td>1.534201</td>\n",
       "      <td>1.754507</td>\n",
       "      <td>2</td>\n",
       "      <td>11.55</td>\n",
       "      <td>0.21</td>\n",
       "      <td>0</td>\n",
       "      <td>3</td>\n",
       "      <td>0</td>\n",
       "      <td>0</td>\n",
       "      <td>3</td>\n",
       "      <td>0</td>\n",
       "    </tr>\n",
       "  </tbody>\n",
       "</table>\n",
       "<p>116710 rows × 14 columns</p>\n",
       "</div>"
      ],
      "text/plain": [
       "        Age    Income  LoanAmount  CreditScore  MonthsEmployed  \\\n",
       "0        46 -1.659118    0.664167     0.459188       -1.674905   \n",
       "1        25 -1.657217   -1.448886     1.182150       -1.674905   \n",
       "3        28 -1.645759   -1.048417    -0.571818       -1.674905   \n",
       "4        19 -1.637418   -0.785483    -0.464946       -1.674905   \n",
       "6        39 -1.630270    0.427032     0.201437       -1.674905   \n",
       "...     ...       ...         ...          ...             ...   \n",
       "116718   65  1.720391   -1.175579     1.320456        1.754507   \n",
       "116719   50  1.727337    0.723373     1.056418        1.754507   \n",
       "116720   22  1.729872   -0.573838     1.659934        1.754507   \n",
       "116721   40  1.748504    0.670221    -0.131755        1.754507   \n",
       "116722   32  1.752509    1.387242     1.534201        1.754507   \n",
       "\n",
       "        NumCreditLines  InterestRate  DTIRatio  Education  EmploymentType  \\\n",
       "0                    3         21.17      0.31          2               0   \n",
       "1                    2         22.72      0.10          0               0   \n",
       "3                    3          5.84      0.80          3               1   \n",
       "4                    2         14.00      0.17          1               2   \n",
       "6                    3          7.86      0.66          0               1   \n",
       "...                ...           ...       ...        ...             ...   \n",
       "116718               3         20.17      0.63          0               0   \n",
       "116719               4         11.77      0.47          3               0   \n",
       "116720               1         21.86      0.52          3               0   \n",
       "116721               3          9.91      0.23          0               3   \n",
       "116722               2         11.55      0.21          0               3   \n",
       "\n",
       "        HasMortgage  HasDependents  LoanPurpose  HasCoSigner  \n",
       "0                 1              1            0            0  \n",
       "1                 1              0            1            1  \n",
       "3                 0              0            2            1  \n",
       "4                 1              0            2            0  \n",
       "6                 1              1            0            1  \n",
       "...             ...            ...          ...          ...  \n",
       "116718            1              1            0            0  \n",
       "116719            1              0            1            0  \n",
       "116720            1              1            2            0  \n",
       "116721            1              0            3            1  \n",
       "116722            0              0            3            0  \n",
       "\n",
       "[116710 rows x 14 columns]"
      ]
     },
     "execution_count": 35,
     "metadata": {},
     "output_type": "execute_result"
    }
   ],
   "source": [
    "X"
   ]
  },
  {
   "cell_type": "code",
   "execution_count": 36,
   "metadata": {
    "id": "nq8YouFKi_s9"
   },
   "outputs": [],
   "source": [
    "# Model building\n",
    "import pandas as pd\n",
    "from sklearn.model_selection import train_test_split\n",
    "from sklearn.preprocessing import StandardScaler\n",
    "from sklearn.linear_model import LogisticRegression\n",
    "from sklearn.ensemble import RandomForestClassifier, GradientBoostingClassifier\n",
    "from sklearn.svm import SVC\n",
    "from sklearn.metrics import accuracy_score, precision_score, recall_score, f1_score, roc_auc_score, confusion_matrix"
   ]
  },
  {
   "cell_type": "code",
   "execution_count": 37,
   "metadata": {
    "id": "Cg6pwPsfi_ux"
   },
   "outputs": [],
   "source": [
    "# Load your dataset\n",
    "data = pd.read_csv('all_loan_Default_Copy.csv')"
   ]
  },
  {
   "cell_type": "code",
   "execution_count": 38,
   "metadata": {
    "id": "J_2w51NSi_xv"
   },
   "outputs": [],
   "source": [
    "# Split the data into train and test sets\n",
    "X_train, X_test, y_train, y_test = train_test_split(X, y, test_size=0.2, random_state=42)"
   ]
  },
  {
   "cell_type": "code",
   "execution_count": 39,
   "metadata": {
    "id": "BHEzIz8ki_z0"
   },
   "outputs": [],
   "source": [
    "# Feature scaling\n",
    "scaler = StandardScaler()\n",
    "X_train_scaled = scaler.fit_transform(X_train)\n",
    "X_test_scaled = scaler.transform(X_test)"
   ]
  },
  {
   "cell_type": "code",
   "execution_count": 40,
   "metadata": {
    "colab": {
     "base_uri": "https://localhost:8080/",
     "height": 75
    },
    "id": "ZWGeD_xni_25",
    "outputId": "9bd6fdc5-a6db-4a77-d5d1-118d791ca304"
   },
   "outputs": [
    {
     "data": {
      "text/html": [
       "<style>#sk-container-id-1 {color: black;background-color: white;}#sk-container-id-1 pre{padding: 0;}#sk-container-id-1 div.sk-toggleable {background-color: white;}#sk-container-id-1 label.sk-toggleable__label {cursor: pointer;display: block;width: 100%;margin-bottom: 0;padding: 0.3em;box-sizing: border-box;text-align: center;}#sk-container-id-1 label.sk-toggleable__label-arrow:before {content: \"▸\";float: left;margin-right: 0.25em;color: #696969;}#sk-container-id-1 label.sk-toggleable__label-arrow:hover:before {color: black;}#sk-container-id-1 div.sk-estimator:hover label.sk-toggleable__label-arrow:before {color: black;}#sk-container-id-1 div.sk-toggleable__content {max-height: 0;max-width: 0;overflow: hidden;text-align: left;background-color: #f0f8ff;}#sk-container-id-1 div.sk-toggleable__content pre {margin: 0.2em;color: black;border-radius: 0.25em;background-color: #f0f8ff;}#sk-container-id-1 input.sk-toggleable__control:checked~div.sk-toggleable__content {max-height: 200px;max-width: 100%;overflow: auto;}#sk-container-id-1 input.sk-toggleable__control:checked~label.sk-toggleable__label-arrow:before {content: \"▾\";}#sk-container-id-1 div.sk-estimator input.sk-toggleable__control:checked~label.sk-toggleable__label {background-color: #d4ebff;}#sk-container-id-1 div.sk-label input.sk-toggleable__control:checked~label.sk-toggleable__label {background-color: #d4ebff;}#sk-container-id-1 input.sk-hidden--visually {border: 0;clip: rect(1px 1px 1px 1px);clip: rect(1px, 1px, 1px, 1px);height: 1px;margin: -1px;overflow: hidden;padding: 0;position: absolute;width: 1px;}#sk-container-id-1 div.sk-estimator {font-family: monospace;background-color: #f0f8ff;border: 1px dotted black;border-radius: 0.25em;box-sizing: border-box;margin-bottom: 0.5em;}#sk-container-id-1 div.sk-estimator:hover {background-color: #d4ebff;}#sk-container-id-1 div.sk-parallel-item::after {content: \"\";width: 100%;border-bottom: 1px solid gray;flex-grow: 1;}#sk-container-id-1 div.sk-label:hover label.sk-toggleable__label {background-color: #d4ebff;}#sk-container-id-1 div.sk-serial::before {content: \"\";position: absolute;border-left: 1px solid gray;box-sizing: border-box;top: 0;bottom: 0;left: 50%;z-index: 0;}#sk-container-id-1 div.sk-serial {display: flex;flex-direction: column;align-items: center;background-color: white;padding-right: 0.2em;padding-left: 0.2em;position: relative;}#sk-container-id-1 div.sk-item {position: relative;z-index: 1;}#sk-container-id-1 div.sk-parallel {display: flex;align-items: stretch;justify-content: center;background-color: white;position: relative;}#sk-container-id-1 div.sk-item::before, #sk-container-id-1 div.sk-parallel-item::before {content: \"\";position: absolute;border-left: 1px solid gray;box-sizing: border-box;top: 0;bottom: 0;left: 50%;z-index: -1;}#sk-container-id-1 div.sk-parallel-item {display: flex;flex-direction: column;z-index: 1;position: relative;background-color: white;}#sk-container-id-1 div.sk-parallel-item:first-child::after {align-self: flex-end;width: 50%;}#sk-container-id-1 div.sk-parallel-item:last-child::after {align-self: flex-start;width: 50%;}#sk-container-id-1 div.sk-parallel-item:only-child::after {width: 0;}#sk-container-id-1 div.sk-dashed-wrapped {border: 1px dashed gray;margin: 0 0.4em 0.5em 0.4em;box-sizing: border-box;padding-bottom: 0.4em;background-color: white;}#sk-container-id-1 div.sk-label label {font-family: monospace;font-weight: bold;display: inline-block;line-height: 1.2em;}#sk-container-id-1 div.sk-label-container {text-align: center;}#sk-container-id-1 div.sk-container {/* jupyter's `normalize.less` sets `[hidden] { display: none; }` but bootstrap.min.css set `[hidden] { display: none !important; }` so we also need the `!important` here to be able to override the default hidden behavior on the sphinx rendered scikit-learn.org. See: https://github.com/scikit-learn/scikit-learn/issues/21755 */display: inline-block !important;position: relative;}#sk-container-id-1 div.sk-text-repr-fallback {display: none;}</style><div id=\"sk-container-id-1\" class=\"sk-top-container\"><div class=\"sk-text-repr-fallback\"><pre>LogisticRegression()</pre><b>In a Jupyter environment, please rerun this cell to show the HTML representation or trust the notebook. <br />On GitHub, the HTML representation is unable to render, please try loading this page with nbviewer.org.</b></div><div class=\"sk-container\" hidden><div class=\"sk-item\"><div class=\"sk-estimator sk-toggleable\"><input class=\"sk-toggleable__control sk-hidden--visually\" id=\"sk-estimator-id-1\" type=\"checkbox\" checked><label for=\"sk-estimator-id-1\" class=\"sk-toggleable__label sk-toggleable__label-arrow\">LogisticRegression</label><div class=\"sk-toggleable__content\"><pre>LogisticRegression()</pre></div></div></div></div></div>"
      ],
      "text/plain": [
       "LogisticRegression()"
      ]
     },
     "execution_count": 40,
     "metadata": {},
     "output_type": "execute_result"
    }
   ],
   "source": [
    "# Logistic Regression\n",
    "lr_model = LogisticRegression()\n",
    "lr_model.fit(X_train_scaled, y_train)"
   ]
  },
  {
   "cell_type": "code",
   "execution_count": 41,
   "metadata": {
    "id": "l3B5S8cbi_44"
   },
   "outputs": [],
   "source": [
    "lr_y_pred = lr_model.predict(X_test_scaled)"
   ]
  },
  {
   "cell_type": "code",
   "execution_count": 42,
   "metadata": {
    "colab": {
     "base_uri": "https://localhost:8080/",
     "height": 75
    },
    "id": "IMwwy0vii_75",
    "outputId": "3f2a391e-2e04-41cd-ed2c-39094d85a227"
   },
   "outputs": [
    {
     "data": {
      "text/html": [
       "<style>#sk-container-id-2 {color: black;background-color: white;}#sk-container-id-2 pre{padding: 0;}#sk-container-id-2 div.sk-toggleable {background-color: white;}#sk-container-id-2 label.sk-toggleable__label {cursor: pointer;display: block;width: 100%;margin-bottom: 0;padding: 0.3em;box-sizing: border-box;text-align: center;}#sk-container-id-2 label.sk-toggleable__label-arrow:before {content: \"▸\";float: left;margin-right: 0.25em;color: #696969;}#sk-container-id-2 label.sk-toggleable__label-arrow:hover:before {color: black;}#sk-container-id-2 div.sk-estimator:hover label.sk-toggleable__label-arrow:before {color: black;}#sk-container-id-2 div.sk-toggleable__content {max-height: 0;max-width: 0;overflow: hidden;text-align: left;background-color: #f0f8ff;}#sk-container-id-2 div.sk-toggleable__content pre {margin: 0.2em;color: black;border-radius: 0.25em;background-color: #f0f8ff;}#sk-container-id-2 input.sk-toggleable__control:checked~div.sk-toggleable__content {max-height: 200px;max-width: 100%;overflow: auto;}#sk-container-id-2 input.sk-toggleable__control:checked~label.sk-toggleable__label-arrow:before {content: \"▾\";}#sk-container-id-2 div.sk-estimator input.sk-toggleable__control:checked~label.sk-toggleable__label {background-color: #d4ebff;}#sk-container-id-2 div.sk-label input.sk-toggleable__control:checked~label.sk-toggleable__label {background-color: #d4ebff;}#sk-container-id-2 input.sk-hidden--visually {border: 0;clip: rect(1px 1px 1px 1px);clip: rect(1px, 1px, 1px, 1px);height: 1px;margin: -1px;overflow: hidden;padding: 0;position: absolute;width: 1px;}#sk-container-id-2 div.sk-estimator {font-family: monospace;background-color: #f0f8ff;border: 1px dotted black;border-radius: 0.25em;box-sizing: border-box;margin-bottom: 0.5em;}#sk-container-id-2 div.sk-estimator:hover {background-color: #d4ebff;}#sk-container-id-2 div.sk-parallel-item::after {content: \"\";width: 100%;border-bottom: 1px solid gray;flex-grow: 1;}#sk-container-id-2 div.sk-label:hover label.sk-toggleable__label {background-color: #d4ebff;}#sk-container-id-2 div.sk-serial::before {content: \"\";position: absolute;border-left: 1px solid gray;box-sizing: border-box;top: 0;bottom: 0;left: 50%;z-index: 0;}#sk-container-id-2 div.sk-serial {display: flex;flex-direction: column;align-items: center;background-color: white;padding-right: 0.2em;padding-left: 0.2em;position: relative;}#sk-container-id-2 div.sk-item {position: relative;z-index: 1;}#sk-container-id-2 div.sk-parallel {display: flex;align-items: stretch;justify-content: center;background-color: white;position: relative;}#sk-container-id-2 div.sk-item::before, #sk-container-id-2 div.sk-parallel-item::before {content: \"\";position: absolute;border-left: 1px solid gray;box-sizing: border-box;top: 0;bottom: 0;left: 50%;z-index: -1;}#sk-container-id-2 div.sk-parallel-item {display: flex;flex-direction: column;z-index: 1;position: relative;background-color: white;}#sk-container-id-2 div.sk-parallel-item:first-child::after {align-self: flex-end;width: 50%;}#sk-container-id-2 div.sk-parallel-item:last-child::after {align-self: flex-start;width: 50%;}#sk-container-id-2 div.sk-parallel-item:only-child::after {width: 0;}#sk-container-id-2 div.sk-dashed-wrapped {border: 1px dashed gray;margin: 0 0.4em 0.5em 0.4em;box-sizing: border-box;padding-bottom: 0.4em;background-color: white;}#sk-container-id-2 div.sk-label label {font-family: monospace;font-weight: bold;display: inline-block;line-height: 1.2em;}#sk-container-id-2 div.sk-label-container {text-align: center;}#sk-container-id-2 div.sk-container {/* jupyter's `normalize.less` sets `[hidden] { display: none; }` but bootstrap.min.css set `[hidden] { display: none !important; }` so we also need the `!important` here to be able to override the default hidden behavior on the sphinx rendered scikit-learn.org. See: https://github.com/scikit-learn/scikit-learn/issues/21755 */display: inline-block !important;position: relative;}#sk-container-id-2 div.sk-text-repr-fallback {display: none;}</style><div id=\"sk-container-id-2\" class=\"sk-top-container\"><div class=\"sk-text-repr-fallback\"><pre>RandomForestClassifier()</pre><b>In a Jupyter environment, please rerun this cell to show the HTML representation or trust the notebook. <br />On GitHub, the HTML representation is unable to render, please try loading this page with nbviewer.org.</b></div><div class=\"sk-container\" hidden><div class=\"sk-item\"><div class=\"sk-estimator sk-toggleable\"><input class=\"sk-toggleable__control sk-hidden--visually\" id=\"sk-estimator-id-2\" type=\"checkbox\" checked><label for=\"sk-estimator-id-2\" class=\"sk-toggleable__label sk-toggleable__label-arrow\">RandomForestClassifier</label><div class=\"sk-toggleable__content\"><pre>RandomForestClassifier()</pre></div></div></div></div></div>"
      ],
      "text/plain": [
       "RandomForestClassifier()"
      ]
     },
     "execution_count": 42,
     "metadata": {},
     "output_type": "execute_result"
    }
   ],
   "source": [
    "# Random Forest\n",
    "rf_model = RandomForestClassifier()\n",
    "rf_model.fit(X_train_scaled, y_train)"
   ]
  },
  {
   "cell_type": "code",
   "execution_count": 43,
   "metadata": {
    "id": "V2P8Ddfvi_9t"
   },
   "outputs": [
    {
     "ename": "NameError",
     "evalue": "name 'gb_model' is not defined",
     "output_type": "error",
     "traceback": [
      "\u001b[1;31m---------------------------------------------------------------------------\u001b[0m",
      "\u001b[1;31mNameError\u001b[0m                                 Traceback (most recent call last)",
      "Cell \u001b[1;32mIn[43], line 1\u001b[0m\n\u001b[1;32m----> 1\u001b[0m gb_y_pred \u001b[38;5;241m=\u001b[39m gb_model\u001b[38;5;241m.\u001b[39mpredict(X_test_scaled)\n",
      "\u001b[1;31mNameError\u001b[0m: name 'gb_model' is not defined"
     ]
    }
   ],
   "source": [
    "gb_y_pred = gb_model.predict(X_test_scaled)"
   ]
  },
  {
   "cell_type": "code",
   "execution_count": null,
   "metadata": {
    "colab": {
     "base_uri": "https://localhost:8080/",
     "height": 75
    },
    "id": "nQxzgOByjABR",
    "outputId": "1e16b073-eb3c-44cc-cfac-1c32f90db2dd"
   },
   "outputs": [],
   "source": [
    "# Gradient Boosting\n",
    "gb_model = GradientBoostingClassifier()\n",
    "gb_model.fit(X_train_scaled, y_train)"
   ]
  },
  {
   "cell_type": "code",
   "execution_count": null,
   "metadata": {
    "id": "6GiHc2DSjAEf"
   },
   "outputs": [],
   "source": [
    "gb_y_pred = gb_model.predict(X_test_scaled)"
   ]
  },
  {
   "cell_type": "code",
   "execution_count": null,
   "metadata": {
    "id": "2caU-GHDjAGa"
   },
   "outputs": [],
   "source": [
    "# Evaluation function\n",
    "def evaluate_model(y_true, y_pred):\n",
    "    accuracy = accuracy_score(y_true, y_pred)\n",
    "    precision = precision_score(y_true, y_pred)\n",
    "    recall = recall_score(y_true, y_pred)\n",
    "    f1 = f1_score(y_true, y_pred)\n",
    "    roc_auc = roc_auc_score(y_true, y_pred)\n",
    "    conf_matrix = confusion_matrix(y_true, y_pred)\n",
    "\n",
    "    return accuracy, precision, recall, f1, roc_auc, conf_matrix"
   ]
  },
  {
   "cell_type": "code",
   "execution_count": null,
   "metadata": {
    "id": "IYJs--15jAIV"
   },
   "outputs": [],
   "source": [
    "# Evaluate models\n",
    "lr_metrics = evaluate_model(y_test, lr_y_pred)\n",
    "rf_metrics = evaluate_model(y_test, rf_y_pred)\n",
    "gb_metrics = evaluate_model(y_test, gb_y_pred)\n"
   ]
  },
  {
   "cell_type": "code",
   "execution_count": null,
   "metadata": {
    "colab": {
     "base_uri": "https://localhost:8080/"
    },
    "id": "rIXXjcmPjALN",
    "outputId": "a55ab59f-17db-4dac-c213-affb4abe2ed7"
   },
   "outputs": [],
   "source": [
    "# Print evaluation metrics\n",
    "print(\"Logistic Regression Metrics:\")\n",
    "print(\"Accuracy:\", lr_metrics[0])\n",
    "print(\"Precision:\", lr_metrics[1])\n",
    "print(\"Recall:\", lr_metrics[2])\n",
    "print(\"F1 Score:\", lr_metrics[3])\n",
    "print(\"ROC AUC Score:\", lr_metrics[4])\n",
    "print(\"Confusion Matrix:\")\n",
    "print(lr_metrics[5])\n",
    "print()\n"
   ]
  },
  {
   "cell_type": "code",
   "execution_count": null,
   "metadata": {
    "colab": {
     "base_uri": "https://localhost:8080/"
    },
    "id": "jmfgAsVdjAND",
    "outputId": "471d003f-cc08-4a0d-ae15-71566b10c949"
   },
   "outputs": [],
   "source": [
    "print(\"Random Forest Metrics:\")\n",
    "print(\"Accuracy:\", rf_metrics[0])\n",
    "print(\"Precision:\", rf_metrics[1])\n",
    "print(\"Recall:\", rf_metrics[2])\n",
    "print(\"F1 Score:\", rf_metrics[3])\n",
    "print(\"ROC AUC Score:\", rf_metrics[4])\n",
    "print(\"Confusion Matrix:\")\n",
    "print(rf_metrics[5])\n",
    "print()"
   ]
  },
  {
   "cell_type": "code",
   "execution_count": null,
   "metadata": {
    "colab": {
     "base_uri": "https://localhost:8080/"
    },
    "id": "I4Aao0YojAQd",
    "outputId": "847139c6-b98e-420e-eee2-b44c0f673fdf"
   },
   "outputs": [],
   "source": [
    "print(\"Gradient Boosting Metrics:\")\n",
    "print(\"Accuracy:\", gb_metrics[0])\n",
    "print(\"Precision:\", gb_metrics[1])\n",
    "print(\"Recall:\", gb_metrics[2])\n",
    "print(\"F1 Score:\", gb_metrics[3])\n",
    "print(\"ROC AUC Score:\", gb_metrics[4])\n",
    "print(\"Confusion Matrix:\")\n",
    "print(gb_metrics[5])\n",
    "print()"
   ]
  },
  {
   "cell_type": "code",
   "execution_count": null,
   "metadata": {
    "id": "WuM3o9cxpTh0"
   },
   "outputs": [],
   "source": [
    "import pickle\n",
    "from sklearn.ensemble import GradientBoostingClassifier"
   ]
  },
  {
   "cell_type": "code",
   "execution_count": null,
   "metadata": {
    "colab": {
     "base_uri": "https://localhost:8080/",
     "height": 75
    },
    "id": "-P6GF67npTtn",
    "outputId": "cfbe96fa-2061-4af6-e869-6e4a50720ddb"
   },
   "outputs": [],
   "source": [
    "# Initialize and train the Gradient Boosting Classifier\n",
    "\n",
    "rf_model = GradientBoostingClassifier()\n",
    "rf_model.fit(X_train_scaled, y_train)"
   ]
  },
  {
   "cell_type": "code",
   "execution_count": null,
   "metadata": {
    "id": "JrVJ3ta2qHfu"
   },
   "outputs": [],
   "source": [
    "# Save the Random Forest model to a file using pickle\n",
    "rf_model_file = 'gradient_boosting.pkl'\n",
    "with open(rf_model_file, 'wb') as file:\n",
    "    pickle.dump(rf_model, file)"
   ]
  },
  {
   "cell_type": "code",
   "execution_count": null,
   "metadata": {
    "id": "3HXtAdcSpTvp"
   },
   "outputs": [],
   "source": []
  },
  {
   "cell_type": "code",
   "execution_count": null,
   "metadata": {
    "id": "DV4pcbDBpTy5"
   },
   "outputs": [],
   "source": []
  },
  {
   "cell_type": "code",
   "execution_count": null,
   "metadata": {
    "id": "hoJGtnDZpT2n"
   },
   "outputs": [],
   "source": []
  },
  {
   "cell_type": "code",
   "execution_count": null,
   "metadata": {
    "id": "2HXuEFhVpT5Q"
   },
   "outputs": [],
   "source": []
  },
  {
   "cell_type": "code",
   "execution_count": null,
   "metadata": {
    "id": "s6fVU6uYpUSB"
   },
   "outputs": [],
   "source": []
  },
  {
   "cell_type": "code",
   "execution_count": null,
   "metadata": {
    "id": "PF-LHtXQpUUD"
   },
   "outputs": [],
   "source": []
  },
  {
   "cell_type": "code",
   "execution_count": null,
   "metadata": {
    "id": "M56zYHDBpUXe"
   },
   "outputs": [],
   "source": []
  }
 ],
 "metadata": {
  "accelerator": "GPU",
  "colab": {
   "gpuType": "T4",
   "provenance": []
  },
  "kernelspec": {
   "display_name": "Python 3 (ipykernel)",
   "language": "python",
   "name": "python3"
  },
  "language_info": {
   "codemirror_mode": {
    "name": "ipython",
    "version": 3
   },
   "file_extension": ".py",
   "mimetype": "text/x-python",
   "name": "python",
   "nbconvert_exporter": "python",
   "pygments_lexer": "ipython3",
   "version": "3.11.3"
  }
 },
 "nbformat": 4,
 "nbformat_minor": 1
}
